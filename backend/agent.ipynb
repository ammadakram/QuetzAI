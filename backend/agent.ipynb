{
 "cells": [
  {
   "cell_type": "markdown",
   "id": "7cd05998",
   "metadata": {},
   "source": [
    "# Overview "
   ]
  },
  {
   "cell_type": "markdown",
   "id": "aebcc99a",
   "metadata": {},
   "source": [
    "<span style=\"font-size: 18px;\">The notebook contains the following:</span>\n",
    "1. The setup of a basic RAG tool.\n",
    "2. We build 3 tools: a retrieval tool, an arithmetic tool, and a web search tool. \n",
    "3. We test the overall agent on a google earnings call document and show the models capabilities."
   ]
  },
  {
   "cell_type": "markdown",
   "id": "1b29cb25",
   "metadata": {},
   "source": [
    "# SRS Requirements Fulfilled"
   ]
  },
  {
   "cell_type": "markdown",
   "id": "cccac556",
   "metadata": {},
   "source": [
    "<span style=\"font-size: 18px;\"> Following requirements from Functional Requirements Section Response Fetching & Editing have been completed in this notebook: </span>\n",
    "1. Query and Response \n",
    "2. Multi-Document Querying \n",
    "3. Search Engine Querying \n",
    "4. Specific Response Editing (will be further finetuned)"
   ]
  },
  {
   "cell_type": "markdown",
   "id": "4df12830",
   "metadata": {},
   "source": [
    "# Environment Setup"
   ]
  },
  {
   "cell_type": "code",
   "execution_count": 1,
   "id": "6d68a756",
   "metadata": {},
   "outputs": [],
   "source": [
    "# !pip install -r data/requirements.txt"
   ]
  },
  {
   "cell_type": "code",
   "execution_count": 2,
   "id": "419580e6",
   "metadata": {},
   "outputs": [],
   "source": [
    "import os\n",
    "# used to load the pdfs \n",
    "from langchain.document_loaders import PyPDFLoader\n",
    "\n",
    "# used to create the retriever\n",
    "from langchain.text_splitter import RecursiveCharacterTextSplitter\n",
    "from langchain.vectorstores import FAISS\n",
    "from langchain_openai import OpenAIEmbeddings\n",
    "\n",
    "# used to create the retrieval tool\n",
    "from langchain.agents import tool\n",
    "\n",
    "# used to create the memory\n",
    "from langchain.memory import ConversationBufferMemory\n",
    "\n",
    "# used to create the prompt template\n",
    "from langchain.agents.openai_functions_agent.base import OpenAIFunctionsAgent\n",
    "from langchain.agents.openai_functions_agent.base import create_openai_functions_agent\n",
    "from langchain.schema import SystemMessage\n",
    "from langchain.prompts import MessagesPlaceholder\n",
    "\n",
    "# used to create the agent executor\n",
    "from langchain_openai import ChatOpenAI\n",
    "from langchain.agents import AgentExecutor\n",
    "\n",
    "from langchain.tools import BaseTool\n",
    "from pydantic import BaseModel, Field\n",
    "from typing import Optional, Type, List, Union\n",
    "from langchain.prompts import PromptTemplate\n",
    "from langchain.chains import LLMMathChain, LLMChain\n",
    "from langchain.callbacks.manager import (AsyncCallbackManagerForToolRun, CallbackManagerForToolRun)\n",
    "from langchain.memory import ConversationBufferWindowMemory\n",
    "from langchain.agents import AgentType, initialize_agent, Tool, AgentExecutor, AgentOutputParser\n",
    "from langchain.schema import AgentAction, AgentFinish, OutputParserException\n",
    "\n",
    "from langchain import hub\n",
    "from langchain.agents import AgentExecutor, create_openai_tools_agent\n",
    "\n",
    "# THis is the serp API wrapper than will help us route ambiguous queries to google search engine\n",
    "from langchain_community.utilities import SerpAPIWrapper\n",
    "from langchain.agents import load_tools"
   ]
  },
  {
   "cell_type": "code",
   "execution_count": 3,
   "id": "6b6c3498",
   "metadata": {},
   "outputs": [],
   "source": [
    "# insert your API key here\n",
    "openai_api_key = open(\"data/API_key.txt\").read().strip()\n",
    "os.environ[\"OPENAI_API_KEY\"] = openai_api_key\n",
    "os.environ[\"SERPAPI_API_KEY\"] = '4bde37c74068633153b825cb3ff392ee3a6697a630674d5abb5d55be50f58a49'\n",
    "memory_key = \"history\""
   ]
  },
  {
   "cell_type": "code",
   "execution_count": 4,
   "id": "4702c5af",
   "metadata": {},
   "outputs": [],
   "source": [
    "llm = ChatOpenAI(temperature = 0, openai_api_key=openai_api_key, model=\"gpt-3.5-turbo\")"
   ]
  },
  {
   "cell_type": "markdown",
   "id": "a1ce2bb1",
   "metadata": {},
   "source": [
    "# Setting Up the RAG Agent"
   ]
  },
  {
   "cell_type": "code",
   "execution_count": 5,
   "id": "403b4b9d",
   "metadata": {},
   "outputs": [],
   "source": [
    "# Setting up the document loader. This returns the document in a page by page format wrapped in the pyDf wrapper\n",
    "def load_document(doc_path=\"\"):\n",
    "    loader = PyPDFLoader(doc_path)\n",
    "    doc = loader.load()\n",
    "    \n",
    "    return doc"
   ]
  },
  {
   "cell_type": "code",
   "execution_count": 6,
   "id": "4a3d8a4c",
   "metadata": {},
   "outputs": [],
   "source": [
    "def establish_retriever(doc_path, chunk_size=1000, overlap=50):\n",
    "    \"\"\"\n",
    "        Recursive splitter tries to go to our specified chunksize by recursively splitting the document on [\"\\n\\n\", \"\\n\", \" \", \"\"]\n",
    "        If the first split by \\n\\n is still large then it moves to the next character which is \\n and tries to split by it.\n",
    "        If it is still larger than our specified chunk size it moves to the next character.\n",
    "        We fetch these chunks and then convert them into vector embeddings using OpenAi's embeddings.\n",
    "        We store these embeddings into our vector database.\n",
    "        We return the vector database object.\n",
    "    \"\"\"\n",
    "    doc = load_document(doc_path)\n",
    "    text_splitter = RecursiveCharacterTextSplitter(chunk_size=chunk_size, chunk_overlap=overlap)\n",
    "    texts = text_splitter.split_documents(doc)\n",
    "    \n",
    "    embeddings = OpenAIEmbeddings()# creating embeddings\n",
    "    db = FAISS.from_documents(texts, embeddings) # store the embeddings in our FAISS database\n",
    "    retriever = db.as_retriever()\n",
    "    \n",
    "    return retriever"
   ]
  },
  {
   "cell_type": "code",
   "execution_count": 7,
   "id": "0f6f929f",
   "metadata": {},
   "outputs": [],
   "source": [
    "doc_path = \"data/google_earning_call.pdf\" # This is just an example, it can be anything\n",
    "retriever = establish_retriever(doc_path)"
   ]
  },
  {
   "cell_type": "markdown",
   "id": "3aec5085",
   "metadata": {},
   "source": [
    "# Creating Tools"
   ]
  },
  {
   "cell_type": "code",
   "execution_count": 8,
   "id": "af90f8af",
   "metadata": {},
   "outputs": [],
   "source": [
    "# This is the retrieval tool that searches the documents and fetches chunks most similar to user query using FAISS.\n",
    "@tool\n",
    "def retriever_tool(query):\n",
    "    \"Searches and returns relevant documents to user queries regarding the uploaded document\"\n",
    "    docs = retriever.get_relevant_documents(query)\n",
    "    return docs\n",
    "\n",
    "tools = [retriever_tool]"
   ]
  },
  {
   "cell_type": "code",
   "execution_count": 9,
   "id": "6384ade3",
   "metadata": {},
   "outputs": [],
   "source": [
    "# This is an arithmetic tool which simply performs any calculation the user might want ot perform. \n",
    "@tool \n",
    "def math_tool(query):\n",
    "    \"Takes in a arithmetic equation as query and solves the equation in a step-by-step manner.\"\n",
    "    llm_math_chain = LLMMathChain.from_llm(llm, verbose=True)\n",
    "    response = llm_math_chain.run(query)\n",
    "    \n",
    "    return response\n",
    "\n",
    "tools.append(math_tool)"
   ]
  },
  {
   "cell_type": "code",
   "execution_count": 10,
   "id": "704195ab",
   "metadata": {},
   "outputs": [],
   "source": [
    "# This is the tool that searches the web for answers to out-of-knowledge queries \n",
    "serp_tool = load_tools(['serpapi'])\n",
    "tools.append(*serp_tool)"
   ]
  },
  {
   "cell_type": "markdown",
   "id": "2713caaa",
   "metadata": {},
   "source": [
    "# Defining the Agent"
   ]
  },
  {
   "cell_type": "code",
   "execution_count": 11,
   "id": "4ff198a9",
   "metadata": {},
   "outputs": [],
   "source": [
    "# Vital to retain memory since that is what enables the back-forth convo\n",
    "memory = ConversationBufferMemory(memory_key=memory_key, return_messages=True)"
   ]
  },
  {
   "cell_type": "code",
   "execution_count": 12,
   "id": "21d649b7",
   "metadata": {},
   "outputs": [],
   "source": [
    "# Our custom system prompt\n",
    "sys_prompt = \"\"\"\n",
    "You are a helpful AI agent that tries it's best to provide the most relevant response to a user query. \\\n",
    "You have multiple custom tools at your disposal. Here are the roles of your 3 tools:\\\n",
    "1. retriever_tool: utilise this tool whenever the user asks you question related to a specific document. Reply with \\\n",
    "\"I DO NOT KNOW. DO YOU WISH ME TO SEARCH THE WEB?\" in case you cannot find answer to a user query from the documents retrieved by this tool.\n",
    "2. math_tool: Utilise this function whenever asked a arithmetic related question.\n",
    "3. serpapi_tool: use this tool whenever the retriever tool fails to answer the query. Ask the user before using this tool.\\\n",
    "If user says \"yes search the web\", then utilise this tool to answer the initial user query. \n",
    "\n",
    "You can also use these tools in a sequential manner to do more complex tasks. For example, a user might first ask\\\n",
    "you to fetch some number using the retrieval/serp_api tool and then ask you to do some arithmetic which you should\\\n",
    "route to the math_tool.\n",
    "\n",
    "Finally, follow these instructions for all generations:\n",
    "1. Be concise. \n",
    "2. Be precise with response. \n",
    "3. Try to follow the mentioned instructions at all times.\n",
    "4. Structure your response so that it is easy for the user to read.\n",
    "5. Follow this heirarchy when using your tools:\n",
    "When asked a question which involves retrieval and arithmetic, first call the retrieval tool to fetch the query specific data. The run this data through the math_tool and then return the response. \n",
    "When asked any other question, invoke the retrieval tool first. If no relevant response is found, return \"I DO NOT KNOW. WANT ME TO SEARCH THE WEB?\".\n",
    "\"\"\""
   ]
  },
  {
   "cell_type": "code",
   "execution_count": 13,
   "id": "d7277329",
   "metadata": {},
   "outputs": [],
   "source": [
    "# Here we are simply wrapping the prompts to feed into the model\n",
    "system_message = SystemMessage(\n",
    "        content=(f\"{sys_prompt}\")\n",
    ")\n",
    "prompt = OpenAIFunctionsAgent.create_prompt(\n",
    "        system_message=system_message,\n",
    "        extra_prompt_messages=[MessagesPlaceholder(variable_name=memory_key)]\n",
    ")"
   ]
  },
  {
   "cell_type": "code",
   "execution_count": 14,
   "id": "ac5cf6d7",
   "metadata": {},
   "outputs": [],
   "source": [
    "# Now we define the AGENT\n",
    "agent = create_openai_functions_agent(llm=llm, tools=tools, prompt=prompt)"
   ]
  },
  {
   "cell_type": "code",
   "execution_count": 15,
   "id": "68cc301a",
   "metadata": {},
   "outputs": [],
   "source": [
    "# This is where everything is wrapped together to form our RAG agent. RAG is just one capability enabled by our retrieval tool. Adding more tools gives more abilities\n",
    "agent_executor = AgentExecutor(agent=agent, tools=tools, memory=memory, verbose=True)"
   ]
  },
  {
   "cell_type": "code",
   "execution_count": 16,
   "id": "eada7542",
   "metadata": {},
   "outputs": [],
   "source": [
    "# This function passes user queries to the model and returns the inferred response\n",
    "def infer(query):\n",
    "    agent_input = {'input':query}\n",
    "    result = agent_executor(agent_input)\n",
    "    \n",
    "    return result['output']"
   ]
  },
  {
   "cell_type": "markdown",
   "id": "480dd362",
   "metadata": {},
   "source": [
    "# Example Inferences"
   ]
  },
  {
   "cell_type": "code",
   "execution_count": 17,
   "id": "60246e65",
   "metadata": {},
   "outputs": [
    {
     "name": "stderr",
     "output_type": "stream",
     "text": [
      "/Users/khaquansheikh/anaconda3/lib/python3.11/site-packages/langchain_core/_api/deprecation.py:117: LangChainDeprecationWarning: The function `__call__` was deprecated in LangChain 0.1.0 and will be removed in 0.2.0. Use invoke instead.\n",
      "  warn_deprecated(\n"
     ]
    },
    {
     "name": "stdout",
     "output_type": "stream",
     "text": [
      "\n",
      "\n",
      "\u001b[1m> Entering new AgentExecutor chain...\u001b[0m\n",
      "\u001b[32;1m\u001b[1;3m\n",
      "Invoking: `retriever_tool` with `{'query': 'effect of staff cuts on Google severance costs'}`\n",
      "\n",
      "\n",
      "\u001b[0m\u001b[36;1m\u001b[1;3m[Document(page_content='Severance and office space exit charges are included within our consolidated statements of income as follows (in \\nmillions):\\nQuarter Ended December 31, 2023 Year Ended December 31, 2023\\nSeverance \\nand Related Office Space TotalSeverance \\nand Related Office Space Total\\nCost of revenues $ 2 $ 235 $ 237 $ 479 $ 481 $ 960 \\nResearch and development  1  602  603 848  870  1,718 \\nSales and marketing  3  198  201 497  257  754 \\nGeneral and administrative  1  161  162 264  237  501 \\nTotal charges $ 7 $ 1,196 $ 1,203 $ 2,088 $ 1,845 $ 3,933 \\nFor segment reporting, the substantial majority of these charges are included within Alphabet-level activities in our \\nsegment result s.\\nChange in Useful Lives of Our Server and Network Equipment\\nIn January 2023, we completed an assessment of the useful lives of our servers and network equipment and \\nadjusted the estimated useful life of our servers from four years  to six years  and the estimated useful life of certain', metadata={'source': 'data/google_earning_call.pdf', 'page': 2}), Document(page_content='Total income from operations $ 18,160 $ 23,697 \\n(1)Formerly “corporate costs, unallocated.” In addition to the costs included in Alphabet-level activities, hedging gains (losses) \\nrelated to revenue were $669 million  and $150 million  for the three months ended December 31, 2022  and 2023 , \\nrespectively. For the quarter ended December 31, 2023, Alphabet-level activities included charges related to the reduction \\nin force and our office space optimization efforts totaling $1.2 billion and $62 million in accelerated rent and accelerated \\ndepreciation.\\nAdditional Information Relating to the Quarter Ended December 31, 2023  (unaudited)\\nReductions in Our Workforce and Office Space\\nIn January 2023, we announced a reduction of our workforce, and as a result we recorded employee severance and \\nrelated charges of  $2.1 billion  for the twelve months ended December 31, 2023 . In addition, we are taking actions', metadata={'source': 'data/google_earning_call.pdf', 'page': 1}), Document(page_content='Q4 2023  Supplemental Information  (in millions, except for number of employees; unaudited)\\nRevenues, Traffic Acquisition Costs (TAC), and Number of Employees\\nQuarter Ended December 31,\\n2022 2023\\nGoogle Search & other $ 42,604 $ 48,020 \\nYouTube ads  7,963  9,200 \\nGoogle Network  8,475  8,297 \\nGoogle advertising  59,042  65,517 \\nGoogle subscriptions, platforms, and devices(1) 8,796  10,794 \\nGoogle Services total  67,838  76,311 \\nGoogle Cloud  7,315  9,192 \\nOther Bets  226  657 \\nHedging gains (losses)  669  150 \\nTotal revenues $ 76,048 $ 86,310 \\nTotal TAC $ 12,925 $ 13,986 \\nNumber of employees  190,234  182,502 \\n(1) Formerly “Google other.”\\nSegment Operating Results\\nQuarter Ended December 31,\\n2022 2023\\nOperating income (loss):\\nGoogle Services $ 20,222 $ 26,730 \\nGoogle Cloud  (186)  864 \\nOther Bets  (1,237)  (863) \\nAlphabet-level activities(1) (639)  (3,034) \\nTotal income from operations $ 18,160 $ 23,697', metadata={'source': 'data/google_earning_call.pdf', 'page': 1}), Document(page_content='Segment Results\\nThe following table presents our segment revenues and operating income (loss) (in millions; unaudited):\\nQuarter Ended December 31,\\n2022 2023\\nRevenues:\\nGoogle Services $ 67,838 $ 76,311 \\nGoogle Cloud  7,315  9,192 \\nOther Bets  226  657 \\nHedging gains (losses)  669  150 \\nTotal revenues $ 76,048 $ 86,310 \\nOperating income (loss):\\nGoogle Services $ 20,222 $ 26,730 \\nGoogle Cloud  (186)  864 \\nOther Bets  (1,237)  (863) \\nAlphabet-level activities  (639)  (3,034) \\nTotal income from operations $ 18,160 $ 23,697 \\nWe report our segment results as Google Services, Google Cloud, and Other Bets:\\n•Google Services includes products and services such as ads, Android, Chrome, devices, Google Maps, \\nGoogle Play, Search, and YouTube. Google Services generates revenues primarily from advertising; fees \\nreceived for consumer subscription-based products such as YouTube TV, YouTube Music and Premium, \\nand NFL Sunday Ticket; the sale of apps and in-app purchases and devices.', metadata={'source': 'data/google_earning_call.pdf', 'page': 7})]\u001b[0m\u001b[32;1m\u001b[1;3mThe effect of staff cuts on Google in terms of severance costs resulted in employee severance and related charges of $2.1 billion for the twelve months ended December 31, 2023.\u001b[0m\n",
      "\n",
      "\u001b[1m> Finished chain.\u001b[0m\n",
      "The effect of staff cuts on Google in terms of severance costs resulted in employee severance and related charges of $2.1 billion for the twelve months ended December 31, 2023.\n"
     ]
    }
   ],
   "source": [
    "# Instance of the retriver tool being called.\n",
    "print(infer(\"Can you tell me what was the effect of staff cuts on Google in terms of severance costs?\"))"
   ]
  },
  {
   "cell_type": "code",
   "execution_count": 18,
   "id": "97f916e4",
   "metadata": {},
   "outputs": [
    {
     "name": "stdout",
     "output_type": "stream",
     "text": [
      "\n",
      "\n",
      "\u001b[1m> Entering new AgentExecutor chain...\u001b[0m\n",
      "\u001b[32;1m\u001b[1;3m\n",
      "Invoking: `retriever_tool` with `{'query': 'Google operating income 2022 2023'}`\n",
      "\n",
      "\n",
      "\u001b[0m\u001b[36;1m\u001b[1;3m[Document(page_content='Q4 2023  Supplemental Information  (in millions, except for number of employees; unaudited)\\nRevenues, Traffic Acquisition Costs (TAC), and Number of Employees\\nQuarter Ended December 31,\\n2022 2023\\nGoogle Search & other $ 42,604 $ 48,020 \\nYouTube ads  7,963  9,200 \\nGoogle Network  8,475  8,297 \\nGoogle advertising  59,042  65,517 \\nGoogle subscriptions, platforms, and devices(1) 8,796  10,794 \\nGoogle Services total  67,838  76,311 \\nGoogle Cloud  7,315  9,192 \\nOther Bets  226  657 \\nHedging gains (losses)  669  150 \\nTotal revenues $ 76,048 $ 86,310 \\nTotal TAC $ 12,925 $ 13,986 \\nNumber of employees  190,234  182,502 \\n(1) Formerly “Google other.”\\nSegment Operating Results\\nQuarter Ended December 31,\\n2022 2023\\nOperating income (loss):\\nGoogle Services $ 20,222 $ 26,730 \\nGoogle Cloud  (186)  864 \\nOther Bets  (1,237)  (863) \\nAlphabet-level activities(1) (639)  (3,034) \\nTotal income from operations $ 18,160 $ 23,697', metadata={'source': 'data/google_earning_call.pdf', 'page': 1}), Document(page_content='Alphabet Announces Fourth Quarter and Fiscal Year  2023  Results\\nMOUNTAIN VIEW, Calif. – January 30, 2024  – Alphabet Inc. (NASDAQ: GOOG, GOOGL) today announced \\nfinancial results for the quarter and fiscal year ended  December 31, 2023 .\\nSundar Pichai, CEO, said: “We are pleased with the ongoing strength in Search and the growing contribution from \\nYouTube and Cloud. Each of these is already benefiting from our AI investments and innovation. As we enter the \\nGemini era, the best is yet to come.”\\nRuth Porat, President and Chief Investment Officer; CFO said: “We ended 2023 with very strong fourth quarter \\nfinancial results, with Q4 consolidated revenues of $86 billion, up 13% year over year. We remain committed to our \\nwork to durably re-engineer our cost base as we invest to support our growth opportunities.”\\nQ4 2023  Financial Highlights\\nThe following table summarizes our consolidated financial results for the quarters and years ended December 31,', metadata={'source': 'data/google_earning_call.pdf', 'page': 0}), Document(page_content='Segment Results\\nThe following table presents our segment revenues and operating income (loss) (in millions; unaudited):\\nQuarter Ended December 31,\\n2022 2023\\nRevenues:\\nGoogle Services $ 67,838 $ 76,311 \\nGoogle Cloud  7,315  9,192 \\nOther Bets  226  657 \\nHedging gains (losses)  669  150 \\nTotal revenues $ 76,048 $ 86,310 \\nOperating income (loss):\\nGoogle Services $ 20,222 $ 26,730 \\nGoogle Cloud  (186)  864 \\nOther Bets  (1,237)  (863) \\nAlphabet-level activities  (639)  (3,034) \\nTotal income from operations $ 18,160 $ 23,697 \\nWe report our segment results as Google Services, Google Cloud, and Other Bets:\\n•Google Services includes products and services such as ads, Android, Chrome, devices, Google Maps, \\nGoogle Play, Search, and YouTube. Google Services generates revenues primarily from advertising; fees \\nreceived for consumer subscription-based products such as YouTube TV, YouTube Music and Premium, \\nand NFL Sunday Ticket; the sale of apps and in-app purchases and devices.', metadata={'source': 'data/google_earning_call.pdf', 'page': 7}), Document(page_content='2022  and 2023  (in millions, except for per share information and percentages). \\nQuarter Ended \\nDecember 31,Year Ended\\nDecember 31,\\n2022 2023 2022 2023\\n(unaudited) (unaudited)\\nRevenues $ 76,048 $ 86,310 $ 282,836 $ 307,394 \\nChange in revenues year over year  1 %  13 %  10 %  9 %\\nChange in constant currency revenues year over year(1) 7 %  13 %  14 %  10 %\\nOperating income $ 18,160 $ 23,697 $ 74,842 $ 84,293 \\nOperating margin  24 %  27 %  26 %  27 %\\nOther income (expense), net $ (1,013) $ 715 $ (3,514) $ 1,424 \\nNet income $ 13,624 $ 20,687 $ 59,972 $ 73,795 \\nDiluted EPS $ 1.05 $ 1.64 $ 4.56 $ 5.80 \\n(1) Non-GAAP measure. See the table captioned “Reconciliation from GAAP revenues to non-GAAP constant currency \\nrevenues and GAAP percentage change in revenues to non-GAAP percentage change in constant currency revenues” for \\nmore details.', metadata={'source': 'data/google_earning_call.pdf', 'page': 0})]\u001b[0m\u001b[32;1m\u001b[1;3mThe operating income for Google in 2022 was $18.16 billion, and in 2023 it was $23.70 billion. The percentage change between these operating incomes was approximately 30.3%.\u001b[0m\n",
      "\n",
      "\u001b[1m> Finished chain.\u001b[0m\n",
      "The operating income for Google in 2022 was $18.16 billion, and in 2023 it was $23.70 billion. The percentage change between these operating incomes was approximately 30.3%.\n"
     ]
    }
   ],
   "source": [
    "print(infer(\"What was the operating income in 2022 and in 2023? What was the percentage change betweeen these operating incomes\"))"
   ]
  },
  {
   "cell_type": "code",
   "execution_count": 19,
   "id": "f3b8b07e",
   "metadata": {},
   "outputs": [
    {
     "name": "stdout",
     "output_type": "stream",
     "text": [
      "\n",
      "\n",
      "\u001b[1m> Entering new AgentExecutor chain...\u001b[0m\n",
      "\u001b[32;1m\u001b[1;3m\n",
      "Invoking: `retriever_tool` with `{'query': 'president of Pakistan'}`\n",
      "\n",
      "\n",
      "\u001b[0m\u001b[36;1m\u001b[1;3m[Document(page_content='Alphabet Announces Fourth Quarter and Fiscal Year  2023  Results\\nMOUNTAIN VIEW, Calif. – January 30, 2024  – Alphabet Inc. (NASDAQ: GOOG, GOOGL) today announced \\nfinancial results for the quarter and fiscal year ended  December 31, 2023 .\\nSundar Pichai, CEO, said: “We are pleased with the ongoing strength in Search and the growing contribution from \\nYouTube and Cloud. Each of these is already benefiting from our AI investments and innovation. As we enter the \\nGemini era, the best is yet to come.”\\nRuth Porat, President and Chief Investment Officer; CFO said: “We ended 2023 with very strong fourth quarter \\nfinancial results, with Q4 consolidated revenues of $86 billion, up 13% year over year. We remain committed to our \\nwork to durably re-engineer our cost base as we invest to support our growth opportunities.”\\nQ4 2023  Financial Highlights\\nThe following table summarizes our consolidated financial results for the quarters and years ended December 31,', metadata={'source': 'data/google_earning_call.pdf', 'page': 0}), Document(page_content='securities of $586 million  and the $45 million  of performance fees related to certain investments in creased  the provision for \\n8', metadata={'source': 'data/google_earning_call.pdf', 'page': 7}), Document(page_content='Hedging gains (losses)  149  1,960 \\nTotal revenues $ 257,637 $ 282,836 $ 294,200  10 %  1 %  (5) %  14 %\\n11', metadata={'source': 'data/google_earning_call.pdf', 'page': 10}), Document(page_content='Total stockholders’ equity  256,144  283,379 \\nTotal liabilities and stockholders’ equity $ 365,264 $ 402,392 \\n5', metadata={'source': 'data/google_earning_call.pdf', 'page': 4})]\u001b[0m\u001b[32;1m\u001b[1;3mI DO NOT KNOW. DO YOU WISH ME TO SEARCH THE WEB?\u001b[0m\n",
      "\n",
      "\u001b[1m> Finished chain.\u001b[0m\n",
      "I DO NOT KNOW. DO YOU WISH ME TO SEARCH THE WEB?\n"
     ]
    }
   ],
   "source": [
    "# An instance of when out-of-knowledge question has been asked. Look at how the model obeys the system prompt!\n",
    "print(infer(\"who is the president of pakistan?\"))"
   ]
  },
  {
   "cell_type": "code",
   "execution_count": 20,
   "id": "bf341206",
   "metadata": {},
   "outputs": [
    {
     "name": "stdout",
     "output_type": "stream",
     "text": [
      "\n",
      "\n",
      "\u001b[1m> Entering new AgentExecutor chain...\u001b[0m\n",
      "\u001b[32;1m\u001b[1;3m\n",
      "Invoking: `Search` with `current president of Pakistan`\n",
      "\n",
      "\n",
      "\u001b[0m\u001b[38;5;200m\u001b[1;3mArif Alvi\u001b[0m\u001b[32;1m\u001b[1;3mThe current President of Pakistan is Arif Alvi.\u001b[0m\n",
      "\n",
      "\u001b[1m> Finished chain.\u001b[0m\n",
      "The current President of Pakistan is Arif Alvi.\n"
     ]
    }
   ],
   "source": [
    "# Instance of the model utilising the SERPAPI to search the web. Also show cases how model retains very specific memory.\n",
    "print(infer(\"Yes search the web for it and give me the answer. Thanks.\"))"
   ]
  }
 ],
 "metadata": {
  "kernelspec": {
   "display_name": "Python 3 (ipykernel)",
   "language": "python",
   "name": "python3"
  },
  "language_info": {
   "codemirror_mode": {
    "name": "ipython",
    "version": 3
   },
   "file_extension": ".py",
   "mimetype": "text/x-python",
   "name": "python",
   "nbconvert_exporter": "python",
   "pygments_lexer": "ipython3",
   "version": "3.11.5"
  }
 },
 "nbformat": 4,
 "nbformat_minor": 5
}
